{
 "cells": [
  {
   "cell_type": "markdown",
   "id": "440aeb9e-32ff-4cb0-b515-5b36b3c6437a",
   "metadata": {},
   "source": [
    "# 01. Importing libraries"
   ]
  },
  {
   "cell_type": "code",
   "execution_count": 6,
   "id": "c7c2a55f",
   "metadata": {},
   "outputs": [
    {
     "name": "stdout",
     "output_type": "stream",
     "text": [
      "100\n"
     ]
    }
   ],
   "source": [
    "a = 50\n",
    "b = 50\n",
    "result = a + b\n",
    "print(result) \n"
   ]
  },
  {
   "cell_type": "markdown",
   "id": "1a070762",
   "metadata": {},
   "source": [
    "#Code 3 different ways of reaching a result of 100 by adding or subtracting numeric variables"
   ]
  },
  {
   "cell_type": "code",
   "execution_count": 5,
   "id": "ac3b548f",
   "metadata": {},
   "outputs": [],
   "source": [
    "# Import libraries\n",
    "import pandas as pd\n",
    "import numpy as np\n",
    "import os"
   ]
  },
  {
   "cell_type": "code",
   "execution_count": 7,
   "id": "47566e31",
   "metadata": {},
   "outputs": [
    {
     "name": "stdout",
     "output_type": "stream",
     "text": [
      "100\n"
     ]
    }
   ],
   "source": [
    "c = 200\n",
    "d = 100\n",
    "result = c - d\n",
    "print(result)  \n"
   ]
  },
  {
   "cell_type": "code",
   "execution_count": 9,
   "id": "a77ef93e",
   "metadata": {},
   "outputs": [
    {
     "name": "stdout",
     "output_type": "stream",
     "text": [
      "100\n"
     ]
    }
   ],
   "source": [
    "e = 80\n",
    "f = 20\n",
    "g = 40\n",
    "result = e + g - f\n",
    "print(result)  \n",
    " "
   ]
  },
  {
   "cell_type": "markdown",
   "id": "1ef34448",
   "metadata": {},
   "source": [
    "#Code 2 floating-point variables and divide them by each other"
   ]
  },
  {
   "cell_type": "code",
   "execution_count": 10,
   "id": "43029068",
   "metadata": {},
   "outputs": [
    {
     "name": "stdout",
     "output_type": "stream",
     "text": [
      "4.2\n"
     ]
    }
   ],
   "source": [
    "a = 10.5\n",
    "b = 2.5\n",
    "\n",
    "result = a / b\n",
    "\n",
    "print(result) \n"
   ]
  },
  {
   "cell_type": "code",
   "execution_count": 11,
   "id": "fcc1ba5a",
   "metadata": {},
   "outputs": [
    {
     "name": "stdout",
     "output_type": "stream",
     "text": [
      "python\n"
     ]
    }
   ],
   "source": [
    "part1 = \"py\"\n",
    "part2 = \"thon\"\n",
    "\n",
    "word = part1 + part2\n",
    "\n",
    "print(word) "
   ]
  },
  {
   "cell_type": "code",
   "execution_count": 12,
   "id": "9a8b2572",
   "metadata": {},
   "outputs": [
    {
     "name": "stdout",
     "output_type": "stream",
     "text": [
      "I love Python.\n",
      "The movie was great.\n"
     ]
    }
   ],
   "source": [
    "sentence1_part1 = \"I\"\n",
    "sentence1_part2 = \"love\"\n",
    "sentence1_part3 = \"Python.\"\n",
    "sentence1 = sentence1_part1 + \" \" + sentence1_part2 + \" \" + sentence1_part3\n",
    "\n",
    "sentence2_part1 = \"The\"\n",
    "sentence2_part2 = \"movie\"\n",
    "sentence2_part3 = \"was great.\"\n",
    "sentence2 = sentence2_part1 + \" \" + sentence2_part2 + \" \" + sentence2_part3\n",
    "\n",
    "print(sentence1)\n",
    "print(sentence2)\n"
   ]
  },
  {
   "cell_type": "code",
   "execution_count": null,
   "id": "4a406e60",
   "metadata": {},
   "outputs": [],
   "source": []
  }
 ],
 "metadata": {
  "kernelspec": {
   "display_name": "Python 3 (ipykernel)",
   "language": "python",
   "name": "python3"
  },
  "language_info": {
   "codemirror_mode": {
    "name": "ipython",
    "version": 3
   },
   "file_extension": ".py",
   "mimetype": "text/x-python",
   "name": "python",
   "nbconvert_exporter": "python",
   "pygments_lexer": "ipython3",
   "version": "3.11.9"
  }
 },
 "nbformat": 4,
 "nbformat_minor": 5
}
